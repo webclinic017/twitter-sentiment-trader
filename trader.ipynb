{
 "cells": [
  {
   "cell_type": "code",
   "execution_count": 11,
   "outputs": [],
   "source": [],
   "metadata": {
    "collapsed": false,
    "pycharm": {
     "name": "#%%\n"
    }
   }
  },
  {
   "cell_type": "code",
   "execution_count": 1,
   "outputs": [
    {
     "data": {
      "text/plain": "{'SMA': functools.partial(<function Client.technical_indicator at 0x00000290E8D59040>, indicator='SMA'),\n 'EMA': functools.partial(<function Client.technical_indicator at 0x00000290E8D59040>, indicator='EMA'),\n 'WMA': functools.partial(<function Client.technical_indicator at 0x00000290E8D59040>, indicator='WMA'),\n 'DEMA': functools.partial(<function Client.technical_indicator at 0x00000290E8D59040>, indicator='DEMA'),\n 'TEMA': functools.partial(<function Client.technical_indicator at 0x00000290E8D59040>, indicator='TEMA'),\n 'TRIMA': functools.partial(<function Client.technical_indicator at 0x00000290E8D59040>, indicator='TRIMA'),\n 'KAMA': functools.partial(<function Client.technical_indicator at 0x00000290E8D59040>, indicator='KAMA'),\n 'MAMA': functools.partial(<function Client.technical_indicator at 0x00000290E8D59040>, indicator='MAMA'),\n 'T3': functools.partial(<function Client.technical_indicator at 0x00000290E8D59040>, indicator='T3'),\n 'MACD': functools.partial(<function Client.technical_indicator at 0x00000290E8D59040>, indicator='MACD'),\n 'MACDEXT': functools.partial(<function Client.technical_indicator at 0x00000290E8D59040>, indicator='MACDEXT'),\n 'STOCH': functools.partial(<function Client.technical_indicator at 0x00000290E8D59040>, indicator='STOCH'),\n 'STOCHF': functools.partial(<function Client.technical_indicator at 0x00000290E8D59040>, indicator='STOCHF'),\n 'RSI': functools.partial(<function Client.technical_indicator at 0x00000290E8D59040>, indicator='RSI'),\n 'STOCHRSI': functools.partial(<function Client.technical_indicator at 0x00000290E8D59040>, indicator='STOCHRSI'),\n 'WILLR': functools.partial(<function Client.technical_indicator at 0x00000290E8D59040>, indicator='WILLR'),\n 'ADX': functools.partial(<function Client.technical_indicator at 0x00000290E8D59040>, indicator='ADX'),\n 'ADXR': functools.partial(<function Client.technical_indicator at 0x00000290E8D59040>, indicator='ADXR'),\n 'APO': functools.partial(<function Client.technical_indicator at 0x00000290E8D59040>, indicator='APO'),\n 'PPO': functools.partial(<function Client.technical_indicator at 0x00000290E8D59040>, indicator='PPO'),\n 'MOM': functools.partial(<function Client.technical_indicator at 0x00000290E8D59040>, indicator='MOM'),\n 'BOP': functools.partial(<function Client.technical_indicator at 0x00000290E8D59040>, indicator='BOP'),\n 'CCI': functools.partial(<function Client.technical_indicator at 0x00000290E8D59040>, indicator='CCI'),\n 'CMO': functools.partial(<function Client.technical_indicator at 0x00000290E8D59040>, indicator='CMO'),\n 'ROC': functools.partial(<function Client.technical_indicator at 0x00000290E8D59040>, indicator='ROC'),\n 'ROCR': functools.partial(<function Client.technical_indicator at 0x00000290E8D59040>, indicator='ROCR'),\n 'AROON': functools.partial(<function Client.technical_indicator at 0x00000290E8D59040>, indicator='AROON'),\n 'AROONOSC': functools.partial(<function Client.technical_indicator at 0x00000290E8D59040>, indicator='AROONOSC'),\n 'MFI': functools.partial(<function Client.technical_indicator at 0x00000290E8D59040>, indicator='MFI'),\n 'TRIX': functools.partial(<function Client.technical_indicator at 0x00000290E8D59040>, indicator='TRIX'),\n 'ULTOSC': functools.partial(<function Client.technical_indicator at 0x00000290E8D59040>, indicator='ULTOSC'),\n 'DX': functools.partial(<function Client.technical_indicator at 0x00000290E8D59040>, indicator='DX'),\n 'MINUSDI': functools.partial(<function Client.technical_indicator at 0x00000290E8D59040>, indicator='MINUSDI'),\n 'PLUSDI': functools.partial(<function Client.technical_indicator at 0x00000290E8D59040>, indicator='PLUSDI'),\n 'MINUSDM': functools.partial(<function Client.technical_indicator at 0x00000290E8D59040>, indicator='MINUSDM'),\n 'PLUSDM': functools.partial(<function Client.technical_indicator at 0x00000290E8D59040>, indicator='PLUSDM'),\n 'BBANDS': functools.partial(<function Client.technical_indicator at 0x00000290E8D59040>, indicator='BBANDS'),\n 'MIDPOINT': functools.partial(<function Client.technical_indicator at 0x00000290E8D59040>, indicator='MIDPOINT'),\n 'MIDPRICE': functools.partial(<function Client.technical_indicator at 0x00000290E8D59040>, indicator='MIDPRICE'),\n 'SAR': functools.partial(<function Client.technical_indicator at 0x00000290E8D59040>, indicator='SAR'),\n 'TRANGE': functools.partial(<function Client.technical_indicator at 0x00000290E8D59040>, indicator='TRANGE'),\n 'ATR': functools.partial(<function Client.technical_indicator at 0x00000290E8D59040>, indicator='ATR'),\n 'NATR': functools.partial(<function Client.technical_indicator at 0x00000290E8D59040>, indicator='NATR'),\n 'AD': functools.partial(<function Client.technical_indicator at 0x00000290E8D59040>, indicator='AD'),\n 'ADOSC': functools.partial(<function Client.technical_indicator at 0x00000290E8D59040>, indicator='ADOSC'),\n 'OBV': functools.partial(<function Client.technical_indicator at 0x00000290E8D59040>, indicator='OBV'),\n 'HTTRENDLINE': functools.partial(<function Client.technical_indicator at 0x00000290E8D59040>, indicator='HTTRENDLINE'),\n 'HTSINE': functools.partial(<function Client.technical_indicator at 0x00000290E8D59040>, indicator='HTSINE'),\n 'HTTRENDMODE': functools.partial(<function Client.technical_indicator at 0x00000290E8D59040>, indicator='HTTRENDMODE'),\n 'HTDCPERIOD': functools.partial(<function Client.technical_indicator at 0x00000290E8D59040>, indicator='HTDCPERIOD'),\n 'HTDCPHASE': functools.partial(<function Client.technical_indicator at 0x00000290E8D59040>, indicator='HTDCPHASE'),\n 'HTPHASOR': functools.partial(<function Client.technical_indicator at 0x00000290E8D59040>, indicator='HTPHASOR'),\n 'CNDL': functools.partial(<function Client.stock_candles at 0x00000290E8D58A60>),\n 'SOCIAL': functools.partial(<function Client.stock_social_sentiment at 0x00000290E8D5A160>)}"
     },
     "execution_count": 1,
     "metadata": {},
     "output_type": "execute_result"
    }
   ],
   "source": [
    "from algo_trader import clients\n",
    "from algo_trader import data_generation\n",
    "import inspect\n",
    "import pandas as pd\n",
    "\n",
    "indicators = [\n",
    "'SMA',\n",
    "'EMA',\n",
    "'WMA',\n",
    "'DEMA',\n",
    "'TEMA',\n",
    "'TRIMA',\n",
    "'KAMA',\n",
    "'MAMA',\n",
    "'T3',\n",
    "'MACD',\n",
    "'MACDEXT',\n",
    "'STOCH',\n",
    "'STOCHF',\n",
    "'RSI',\n",
    "'STOCHRSI',\n",
    "'WILLR',\n",
    "'ADX',\n",
    "'ADXR',\n",
    "'APO',\n",
    "'PPO',\n",
    "'MOM',\n",
    "'BOP',\n",
    "'CCI',\n",
    "'CMO',\n",
    "'ROC',\n",
    "'ROCR',\n",
    "'AROON',\n",
    "'AROONOSC',\n",
    "'MFI',\n",
    "'TRIX',\n",
    "'ULTOSC',\n",
    "'DX',\n",
    "'MINUSDI',\n",
    "'PLUSDI',\n",
    "'MINUSDM',\n",
    "'PLUSDM',\n",
    "'BBANDS',\n",
    "'MIDPOINT',\n",
    "'MIDPRICE',\n",
    "'SAR',\n",
    "'TRANGE',\n",
    "'ATR',\n",
    "'NATR',\n",
    "'AD',\n",
    "'ADOSC',\n",
    "'OBV',\n",
    "'HTTRENDLINE',\n",
    "'HTSINE',\n",
    "'HTTRENDMODE',\n",
    "'HTDCPERIOD',\n",
    "'HTDCPHASE',\n",
    "'HTPHASOR'\n",
    "]\n",
    "\n",
    "x = data_generation.get_all_functions(indicators)\n",
    "x"
   ],
   "metadata": {
    "collapsed": false,
    "pycharm": {
     "name": "#%%\n"
    }
   }
  },
  {
   "cell_type": "code",
   "execution_count": 2,
   "outputs": [
    {
     "name": "stdout",
     "output_type": "stream",
     "text": [
      "{'SMA': functools.partial(<bound method Client.technical_indicator of <finnhub.client.Client object at 0x000002424FF7AF10>>, _from=1479133776, to=1660570176, resolution='D', indicator='SMA'), 'EMA': functools.partial(<bound method Client.technical_indicator of <finnhub.client.Client object at 0x000002427146F520>>, _from=1479133776, to=1660570176, resolution='D', indicator='EMA'), 'WMA': functools.partial(<bound method Client.technical_indicator of <finnhub.client.Client object at 0x000002427146F970>>, _from=1479133776, to=1660570176, resolution='D', indicator='WMA'), 'DEMA': functools.partial(<bound method Client.technical_indicator of <finnhub.client.Client object at 0x000002427146FDC0>>, _from=1479133776, to=1660570176, resolution='D', indicator='DEMA'), 'TEMA': functools.partial(<bound method Client.technical_indicator of <finnhub.client.Client object at 0x0000024271478250>>, _from=1479133776, to=1660570176, resolution='D', indicator='TEMA'), 'TRIMA': functools.partial(<bound method Client.technical_indicator of <finnhub.client.Client object at 0x00000242714786A0>>, _from=1479133776, to=1660570176, resolution='D', indicator='TRIMA'), 'KAMA': functools.partial(<bound method Client.technical_indicator of <finnhub.client.Client object at 0x0000024271478AF0>>, _from=1479133776, to=1660570176, resolution='D', indicator='KAMA'), 'MAMA': functools.partial(<bound method Client.technical_indicator of <finnhub.client.Client object at 0x0000024271478F40>>, _from=1479133776, to=1660570176, resolution='D', indicator='MAMA'), 'T3': functools.partial(<bound method Client.technical_indicator of <finnhub.client.Client object at 0x000002427147D3D0>>, _from=1479133776, to=1660570176, resolution='D', indicator='T3'), 'MACD': functools.partial(<bound method Client.technical_indicator of <finnhub.client.Client object at 0x000002427147D820>>, _from=1479133776, to=1660570176, resolution='D', indicator='MACD'), 'MACDEXT': functools.partial(<bound method Client.technical_indicator of <finnhub.client.Client object at 0x000002427147DC70>>, _from=1479133776, to=1660570176, resolution='D', indicator='MACDEXT'), 'STOCH': functools.partial(<bound method Client.technical_indicator of <finnhub.client.Client object at 0x0000024271485100>>, _from=1479133776, to=1660570176, resolution='D', indicator='STOCH'), 'STOCHF': functools.partial(<bound method Client.technical_indicator of <finnhub.client.Client object at 0x0000024271485550>>, _from=1479133776, to=1660570176, resolution='D', indicator='STOCHF'), 'RSI': functools.partial(<bound method Client.technical_indicator of <finnhub.client.Client object at 0x00000242714859A0>>, _from=1479133776, to=1660570176, resolution='D', indicator='RSI'), 'STOCHRSI': functools.partial(<bound method Client.technical_indicator of <finnhub.client.Client object at 0x0000024271485DF0>>, _from=1479133776, to=1660570176, resolution='D', indicator='STOCHRSI'), 'WILLR': functools.partial(<bound method Client.technical_indicator of <finnhub.client.Client object at 0x000002427148C280>>, _from=1479133776, to=1660570176, resolution='D', indicator='WILLR'), 'ADX': functools.partial(<bound method Client.technical_indicator of <finnhub.client.Client object at 0x000002427148C6D0>>, _from=1479133776, to=1660570176, resolution='D', indicator='ADX'), 'ADXR': functools.partial(<bound method Client.technical_indicator of <finnhub.client.Client object at 0x000002427148CB20>>, _from=1479133776, to=1660570176, resolution='D', indicator='ADXR'), 'APO': functools.partial(<bound method Client.technical_indicator of <finnhub.client.Client object at 0x000002427148CF70>>, _from=1479133776, to=1660570176, resolution='D', indicator='APO'), 'PPO': functools.partial(<bound method Client.technical_indicator of <finnhub.client.Client object at 0x0000024271494400>>, _from=1479133776, to=1660570176, resolution='D', indicator='PPO'), 'MOM': functools.partial(<bound method Client.technical_indicator of <finnhub.client.Client object at 0x0000024271494850>>, _from=1479133776, to=1660570176, resolution='D', indicator='MOM'), 'BOP': functools.partial(<bound method Client.technical_indicator of <finnhub.client.Client object at 0x0000024271494CA0>>, _from=1479133776, to=1660570176, resolution='D', indicator='BOP'), 'CCI': functools.partial(<bound method Client.technical_indicator of <finnhub.client.Client object at 0x000002427149C130>>, _from=1479133776, to=1660570176, resolution='D', indicator='CCI'), 'CMO': functools.partial(<bound method Client.technical_indicator of <finnhub.client.Client object at 0x000002427149C580>>, _from=1479133776, to=1660570176, resolution='D', indicator='CMO'), 'ROC': functools.partial(<bound method Client.technical_indicator of <finnhub.client.Client object at 0x000002427149C9D0>>, _from=1479133776, to=1660570176, resolution='D', indicator='ROC'), 'ROCR': functools.partial(<bound method Client.technical_indicator of <finnhub.client.Client object at 0x000002427149CE20>>, _from=1479133776, to=1660570176, resolution='D', indicator='ROCR'), 'AROON': functools.partial(<bound method Client.technical_indicator of <finnhub.client.Client object at 0x00000242714A42B0>>, _from=1479133776, to=1660570176, resolution='D', indicator='AROON'), 'AROONOSC': functools.partial(<bound method Client.technical_indicator of <finnhub.client.Client object at 0x00000242714A4700>>, _from=1479133776, to=1660570176, resolution='D', indicator='AROONOSC'), 'MFI': functools.partial(<bound method Client.technical_indicator of <finnhub.client.Client object at 0x00000242714A4B50>>, _from=1479133776, to=1660570176, resolution='D', indicator='MFI'), 'TRIX': functools.partial(<bound method Client.technical_indicator of <finnhub.client.Client object at 0x00000242714A4FA0>>, _from=1479133776, to=1660570176, resolution='D', indicator='TRIX'), 'ULTOSC': functools.partial(<bound method Client.technical_indicator of <finnhub.client.Client object at 0x00000242714AA430>>, _from=1479133776, to=1660570176, resolution='D', indicator='ULTOSC'), 'DX': functools.partial(<bound method Client.technical_indicator of <finnhub.client.Client object at 0x00000242714AA880>>, _from=1479133776, to=1660570176, resolution='D', indicator='DX'), 'MINUSDI': functools.partial(<bound method Client.technical_indicator of <finnhub.client.Client object at 0x00000242714AACD0>>, _from=1479133776, to=1660570176, resolution='D', indicator='MINUSDI'), 'PLUSDI': functools.partial(<bound method Client.technical_indicator of <finnhub.client.Client object at 0x00000242714B2160>>, _from=1479133776, to=1660570176, resolution='D', indicator='PLUSDI'), 'MINUSDM': functools.partial(<bound method Client.technical_indicator of <finnhub.client.Client object at 0x00000242714B25B0>>, _from=1479133776, to=1660570176, resolution='D', indicator='MINUSDM'), 'PLUSDM': functools.partial(<bound method Client.technical_indicator of <finnhub.client.Client object at 0x00000242714B2A00>>, _from=1479133776, to=1660570176, resolution='D', indicator='PLUSDM'), 'BBANDS': functools.partial(<bound method Client.technical_indicator of <finnhub.client.Client object at 0x00000242714B2E50>>, _from=1479133776, to=1660570176, resolution='D', indicator='BBANDS'), 'MIDPOINT': functools.partial(<bound method Client.technical_indicator of <finnhub.client.Client object at 0x00000242714B92E0>>, _from=1479133776, to=1660570176, resolution='D', indicator='MIDPOINT'), 'MIDPRICE': functools.partial(<bound method Client.technical_indicator of <finnhub.client.Client object at 0x00000242714B9730>>, _from=1479133776, to=1660570176, resolution='D', indicator='MIDPRICE'), 'SAR': functools.partial(<bound method Client.technical_indicator of <finnhub.client.Client object at 0x00000242714B9B80>>, _from=1479133776, to=1660570176, resolution='D', indicator='SAR'), 'TRANGE': functools.partial(<bound method Client.technical_indicator of <finnhub.client.Client object at 0x00000242714B9FD0>>, _from=1479133776, to=1660570176, resolution='D', indicator='TRANGE'), 'ATR': functools.partial(<bound method Client.technical_indicator of <finnhub.client.Client object at 0x00000242714C3460>>, _from=1479133776, to=1660570176, resolution='D', indicator='ATR'), 'NATR': functools.partial(<bound method Client.technical_indicator of <finnhub.client.Client object at 0x00000242714C38B0>>, _from=1479133776, to=1660570176, resolution='D', indicator='NATR'), 'AD': functools.partial(<bound method Client.technical_indicator of <finnhub.client.Client object at 0x00000242714C3D00>>, _from=1479133776, to=1660570176, resolution='D', indicator='AD'), 'ADOSC': functools.partial(<bound method Client.technical_indicator of <finnhub.client.Client object at 0x00000242714CA190>>, _from=1479133776, to=1660570176, resolution='D', indicator='ADOSC'), 'OBV': functools.partial(<bound method Client.technical_indicator of <finnhub.client.Client object at 0x00000242714CA5E0>>, _from=1479133776, to=1660570176, resolution='D', indicator='OBV'), 'HTTRENDLINE': functools.partial(<bound method Client.technical_indicator of <finnhub.client.Client object at 0x00000242714CAA30>>, _from=1479133776, to=1660570176, resolution='D', indicator='HTTRENDLINE'), 'HTSINE': functools.partial(<bound method Client.technical_indicator of <finnhub.client.Client object at 0x00000242714CAE80>>, _from=1479133776, to=1660570176, resolution='D', indicator='HTSINE'), 'HTTRENDMODE': functools.partial(<bound method Client.technical_indicator of <finnhub.client.Client object at 0x00000242714D1310>>, _from=1479133776, to=1660570176, resolution='D', indicator='HTTRENDMODE'), 'HTDCPERIOD': functools.partial(<bound method Client.technical_indicator of <finnhub.client.Client object at 0x00000242714D1760>>, _from=1479133776, to=1660570176, resolution='D', indicator='HTDCPERIOD'), 'HTDCPHASE': functools.partial(<bound method Client.technical_indicator of <finnhub.client.Client object at 0x00000242714D1BB0>>, _from=1479133776, to=1660570176, resolution='D', indicator='HTDCPHASE'), 'HTPHASOR': functools.partial(<bound method Client.technical_indicator of <finnhub.client.Client object at 0x00000242714D7040>>, _from=1479133776, to=1660570176, resolution='D', indicator='HTPHASOR'), 'CNDL': functools.partial(<bound method Client.stock_candles of <finnhub.client.Client object at 0x000002424FF7AF40>>, _from=1479133776, to=1660570176, resolution='D')}\n"
     ]
    }
   ],
   "source": [
    "x['OBV']('AAPL')"
   ],
   "metadata": {
    "collapsed": false,
    "pycharm": {
     "name": "#%%\n"
    }
   }
  },
  {
   "cell_type": "code",
   "execution_count": null,
   "outputs": [],
   "source": [],
   "metadata": {
    "collapsed": false,
    "pycharm": {
     "name": "#%%\n"
    }
   }
  }
 ],
 "metadata": {
  "kernelspec": {
   "display_name": "Python 3",
   "language": "python",
   "name": "python3"
  },
  "language_info": {
   "codemirror_mode": {
    "name": "ipython",
    "version": 2
   },
   "file_extension": ".py",
   "mimetype": "text/x-python",
   "name": "python",
   "nbconvert_exporter": "python",
   "pygments_lexer": "ipython2",
   "version": "2.7.6"
  }
 },
 "nbformat": 4,
 "nbformat_minor": 0
}